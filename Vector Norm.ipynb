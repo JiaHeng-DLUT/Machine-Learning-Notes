{
 "cells": [
  {
   "cell_type": "markdown",
   "metadata": {},
   "source": [
    "# Vector Norms\n",
    "\n",
    "Source: [Gentle Introduction to Vector Norms in Machine Learning](https://machinelearningmastery.com/vector-norms-machine-learning/)\n",
    "\n",
    "|         $L_1$ Norm (Taxicab Norm or Manhattan norm)          |                 $L_2$ Norm (Euclidean norm)                  |                           Max Norm                           |\n",
    "| :----------------------------------------------------------: | :----------------------------------------------------------: | :----------------------------------------------------------: |\n",
    "| The $L_1$ norm is calculated as the sum of the absolute vector values. | The $L_2$ norm is calculated as the square root of the sum of the squared vector values. | The max norm is calculated as returning the maximum value of the vector, hence the name. |\n",
    "| $\\begin{Vmatrix} \\boldsymbol{v} \\end{Vmatrix}_1 = \\begin{vmatrix} a_1 \\end{vmatrix} + \\begin{vmatrix} a_2 \\end{vmatrix} + \\begin{vmatrix} a_3 \\end{vmatrix}$ | $\\begin{Vmatrix} \\boldsymbol{v} \\end{Vmatrix}_2 = \\sqrt{\\sum\\limits_{i=1}^3{a_i^2}} = \\sqrt{a_1^2 + a_2^2 + a_3^2}$ | $\\begin{Vmatrix} \\boldsymbol{v} \\end{Vmatrix}_{\\infty} = \\max(a_1, a_2, a_3)$ |\n",
    "| In effect, the $L_1$ norm is a calculation of the **Manhattan distance** from the origin of the vector space. | The L2 norm is also known as the **Euclidean norm** as it is calculated as the Euclidean distance from the origin. |                                                              |\n",
    "| The $L_1$ norm is often used when fitting machine learning algorithms as a regularization method, e.g. a method to keep the coefficients of the model small, and in turn, the model less complex. | Like the $L_1$ norm, the $L_2$ norm is often used when fitting machine learning algorithms as a regularization method, e.g. a method to keep the coefficients of the model small and, in turn, the model less complex. | Max norm is also used as a regularization in machine learning, such as on neural network weights, called max norm regularization. |\n",
    "|                                                              | By far, the $L_2$ norm is more commonly used than other vector norms in machine learning. |                                                              |"
   ]
  },
  {
   "cell_type": "markdown",
   "metadata": {},
   "source": [
    "## $L_1$ norm\n",
    "\n",
    "\n",
    "- The $L_1$ norm of a vector can be calculated in `NumPy` using the `norm()` function with a parameter to specify the norm order, in this case `1`."
   ]
  },
  {
   "cell_type": "code",
   "execution_count": 1,
   "metadata": {},
   "outputs": [
    {
     "name": "stdout",
     "output_type": "stream",
     "text": [
      "[1 2 3]\n",
      "3.0\n"
     ]
    }
   ],
   "source": [
    "# max norm of a vector\n",
    "from numpy import inf\n",
    "from numpy import array\n",
    "from numpy.linalg import norm\n",
    "a = array([1, 2, 3])\n",
    "print(a) # [1 2 3]\n",
    "maxnorm = norm(a, inf)\n",
    "print(maxnorm) # 3.0"
   ]
  },
  {
   "cell_type": "markdown",
   "metadata": {},
   "source": [
    "## $L_2$ Norm\n",
    "\n",
    "- The $L_2$ norm of a vector can be calculated in `NumPy` using the `norm()` function with default parameters."
   ]
  },
  {
   "cell_type": "code",
   "execution_count": 2,
   "metadata": {},
   "outputs": [
    {
     "name": "stdout",
     "output_type": "stream",
     "text": [
      "[1 2 3]\n",
      "3.7416573867739413\n"
     ]
    }
   ],
   "source": [
    "# l2 norm of a vector\n",
    "from numpy import array\n",
    "from numpy.linalg import norm\n",
    "a = array([1, 2, 3])\n",
    "print(a) # [1 2 3]\n",
    "l2 = norm(a)\n",
    "print(l2) # 3.7416573867739413"
   ]
  },
  {
   "cell_type": "markdown",
   "metadata": {},
   "source": [
    "## Max Norm\n",
    "\n",
    "The max norm of a vector can be calculated in `NumPy` using the `norm()` function with the order parameter set to `inf`."
   ]
  },
  {
   "cell_type": "code",
   "execution_count": 3,
   "metadata": {},
   "outputs": [
    {
     "name": "stdout",
     "output_type": "stream",
     "text": [
      "[1 2 3]\n",
      "3.0\n"
     ]
    }
   ],
   "source": [
    "# max norm of a vector\n",
    "from numpy import inf\n",
    "from numpy import array\n",
    "from numpy.linalg import norm\n",
    "a = array([1, 2, 3])\n",
    "print(a) # [1 2 3]\n",
    "maxnorm = norm(a, inf)\n",
    "print(maxnorm) # 3.0"
   ]
  }
 ],
 "metadata": {
  "kernelspec": {
   "display_name": "Python 3",
   "language": "python",
   "name": "python3"
  },
  "language_info": {
   "codemirror_mode": {
    "name": "ipython",
    "version": 3
   },
   "file_extension": ".py",
   "mimetype": "text/x-python",
   "name": "python",
   "nbconvert_exporter": "python",
   "pygments_lexer": "ipython3",
   "version": "3.7.5"
  }
 },
 "nbformat": 4,
 "nbformat_minor": 2
}
